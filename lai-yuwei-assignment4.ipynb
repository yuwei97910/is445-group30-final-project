{
 "cells": [
  {
   "cell_type": "markdown",
   "metadata": {},
   "source": [
    "# IS445 Data Viualization Fall-2022: Homework #4\n",
    "\n",
    "Yu-We Lai / yuwei6\n",
    "\n",
    "Sep.02, 2022"
   ]
  },
  {
   "cell_type": "code",
   "execution_count": 1,
   "metadata": {},
   "outputs": [],
   "source": [
    "import warnings\n",
    "warnings.filterwarnings(\"ignore\")\n",
    "\n",
    "import matplotlib\n",
    "import matplotlib.pyplot as plt\n",
    "import numpy as np\n",
    "import pandas as pd\n",
    "\n",
    "import ipywidgets\n",
    "from IPython.display import display, clear_output"
   ]
  },
  {
   "cell_type": "markdown",
   "metadata": {},
   "source": [
    "## Import the dataset and the summary"
   ]
  },
  {
   "cell_type": "code",
   "execution_count": 2,
   "metadata": {},
   "outputs": [
    {
     "data": {
      "text/html": [
       "<div>\n",
       "<style scoped>\n",
       "    .dataframe tbody tr th:only-of-type {\n",
       "        vertical-align: middle;\n",
       "    }\n",
       "\n",
       "    .dataframe tbody tr th {\n",
       "        vertical-align: top;\n",
       "    }\n",
       "\n",
       "    .dataframe thead th {\n",
       "        text-align: right;\n",
       "    }\n",
       "</style>\n",
       "<table border=\"1\" class=\"dataframe\">\n",
       "  <thead>\n",
       "    <tr style=\"text-align: right;\">\n",
       "      <th></th>\n",
       "      <th>observed</th>\n",
       "      <th>location_details</th>\n",
       "      <th>county</th>\n",
       "      <th>state</th>\n",
       "      <th>season</th>\n",
       "      <th>title</th>\n",
       "      <th>latitude</th>\n",
       "      <th>longitude</th>\n",
       "      <th>date</th>\n",
       "      <th>number</th>\n",
       "      <th>...</th>\n",
       "      <th>precip_intensity</th>\n",
       "      <th>precip_probability</th>\n",
       "      <th>precip_type</th>\n",
       "      <th>pressure</th>\n",
       "      <th>summary</th>\n",
       "      <th>uv_index</th>\n",
       "      <th>visibility</th>\n",
       "      <th>wind_bearing</th>\n",
       "      <th>wind_speed</th>\n",
       "      <th>location</th>\n",
       "    </tr>\n",
       "  </thead>\n",
       "  <tbody>\n",
       "    <tr>\n",
       "      <th>0</th>\n",
       "      <td>Ed L. was salmon fishing with a companion in P...</td>\n",
       "      <td>East side of Prince William Sound</td>\n",
       "      <td>Valdez-Chitina-Whittier County</td>\n",
       "      <td>Alaska</td>\n",
       "      <td>Fall</td>\n",
       "      <td>NaN</td>\n",
       "      <td>NaN</td>\n",
       "      <td>NaN</td>\n",
       "      <td>NaT</td>\n",
       "      <td>1261.0</td>\n",
       "      <td>...</td>\n",
       "      <td>NaN</td>\n",
       "      <td>NaN</td>\n",
       "      <td>NaN</td>\n",
       "      <td>NaN</td>\n",
       "      <td>NaN</td>\n",
       "      <td>NaN</td>\n",
       "      <td>NaN</td>\n",
       "      <td>NaN</td>\n",
       "      <td>NaN</td>\n",
       "      <td>NaN</td>\n",
       "    </tr>\n",
       "    <tr>\n",
       "      <th>1</th>\n",
       "      <td>heh i kinda feel a little dumb that im reporti...</td>\n",
       "      <td>the road is off us rt 80, i dont know the exit...</td>\n",
       "      <td>Warren County</td>\n",
       "      <td>New Jersey</td>\n",
       "      <td>Fall</td>\n",
       "      <td>NaN</td>\n",
       "      <td>NaN</td>\n",
       "      <td>NaN</td>\n",
       "      <td>NaT</td>\n",
       "      <td>438.0</td>\n",
       "      <td>...</td>\n",
       "      <td>NaN</td>\n",
       "      <td>NaN</td>\n",
       "      <td>NaN</td>\n",
       "      <td>NaN</td>\n",
       "      <td>NaN</td>\n",
       "      <td>NaN</td>\n",
       "      <td>NaN</td>\n",
       "      <td>NaN</td>\n",
       "      <td>NaN</td>\n",
       "      <td>NaN</td>\n",
       "    </tr>\n",
       "    <tr>\n",
       "      <th>2</th>\n",
       "      <td>I was on my way to Claremont from Lebanon on R...</td>\n",
       "      <td>Close to Claremont down 120 not far from Kings...</td>\n",
       "      <td>Sullivan County</td>\n",
       "      <td>New Hampshire</td>\n",
       "      <td>Summer</td>\n",
       "      <td>Report 55269: Dawn sighting at Stevens Brook o...</td>\n",
       "      <td>43.41549</td>\n",
       "      <td>-72.33093</td>\n",
       "      <td>2016-06-07</td>\n",
       "      <td>55269.0</td>\n",
       "      <td>...</td>\n",
       "      <td>0.001</td>\n",
       "      <td>0.7</td>\n",
       "      <td>rain</td>\n",
       "      <td>998.87</td>\n",
       "      <td>Mostly cloudy throughout the day.</td>\n",
       "      <td>6.0</td>\n",
       "      <td>9.70</td>\n",
       "      <td>262.0</td>\n",
       "      <td>0.49</td>\n",
       "      <td>POINT(-72.33093000000001 43.415490000000005)</td>\n",
       "    </tr>\n",
       "    <tr>\n",
       "      <th>3</th>\n",
       "      <td>I was northeast of Macy Nebraska along the Mis...</td>\n",
       "      <td>Latitude &amp; Longitude :  42.158230  -96.344197</td>\n",
       "      <td>Thurston County</td>\n",
       "      <td>Nebraska</td>\n",
       "      <td>Spring</td>\n",
       "      <td>Report 59757: Possible daylight sighting of a ...</td>\n",
       "      <td>42.15685</td>\n",
       "      <td>-96.34203</td>\n",
       "      <td>2018-05-25</td>\n",
       "      <td>59757.0</td>\n",
       "      <td>...</td>\n",
       "      <td>0.000</td>\n",
       "      <td>0.0</td>\n",
       "      <td>NaN</td>\n",
       "      <td>1008.07</td>\n",
       "      <td>Partly cloudy in the morning.</td>\n",
       "      <td>10.0</td>\n",
       "      <td>8.25</td>\n",
       "      <td>193.0</td>\n",
       "      <td>3.33</td>\n",
       "      <td>POINT(-96.34203000000001 42.15685)</td>\n",
       "    </tr>\n",
       "    <tr>\n",
       "      <th>4</th>\n",
       "      <td>While this incident occurred a long time ago, ...</td>\n",
       "      <td>Ward County, Just outside of a the Minuteman T...</td>\n",
       "      <td>Ward County</td>\n",
       "      <td>North Dakota</td>\n",
       "      <td>Spring</td>\n",
       "      <td>Report 751: Hunter describes described being s...</td>\n",
       "      <td>48.25422</td>\n",
       "      <td>-101.31660</td>\n",
       "      <td>2000-04-21</td>\n",
       "      <td>751.0</td>\n",
       "      <td>...</td>\n",
       "      <td>NaN</td>\n",
       "      <td>NaN</td>\n",
       "      <td>rain</td>\n",
       "      <td>1011.47</td>\n",
       "      <td>Partly cloudy until evening.</td>\n",
       "      <td>6.0</td>\n",
       "      <td>10.00</td>\n",
       "      <td>237.0</td>\n",
       "      <td>11.14</td>\n",
       "      <td>POINT(-101.3166 48.254220000000004)</td>\n",
       "    </tr>\n",
       "  </tbody>\n",
       "</table>\n",
       "<p>5 rows × 29 columns</p>\n",
       "</div>"
      ],
      "text/plain": [
       "                                            observed  \\\n",
       "0  Ed L. was salmon fishing with a companion in P...   \n",
       "1  heh i kinda feel a little dumb that im reporti...   \n",
       "2  I was on my way to Claremont from Lebanon on R...   \n",
       "3  I was northeast of Macy Nebraska along the Mis...   \n",
       "4  While this incident occurred a long time ago, ...   \n",
       "\n",
       "                                    location_details  \\\n",
       "0                  East side of Prince William Sound   \n",
       "1  the road is off us rt 80, i dont know the exit...   \n",
       "2  Close to Claremont down 120 not far from Kings...   \n",
       "3      Latitude & Longitude :  42.158230  -96.344197   \n",
       "4  Ward County, Just outside of a the Minuteman T...   \n",
       "\n",
       "                           county          state  season  \\\n",
       "0  Valdez-Chitina-Whittier County         Alaska    Fall   \n",
       "1                   Warren County     New Jersey    Fall   \n",
       "2                 Sullivan County  New Hampshire  Summer   \n",
       "3                 Thurston County       Nebraska  Spring   \n",
       "4                     Ward County   North Dakota  Spring   \n",
       "\n",
       "                                               title  latitude  longitude  \\\n",
       "0                                                NaN       NaN        NaN   \n",
       "1                                                NaN       NaN        NaN   \n",
       "2  Report 55269: Dawn sighting at Stevens Brook o...  43.41549  -72.33093   \n",
       "3  Report 59757: Possible daylight sighting of a ...  42.15685  -96.34203   \n",
       "4  Report 751: Hunter describes described being s...  48.25422 -101.31660   \n",
       "\n",
       "        date   number  ... precip_intensity precip_probability  precip_type  \\\n",
       "0        NaT   1261.0  ...              NaN                NaN          NaN   \n",
       "1        NaT    438.0  ...              NaN                NaN          NaN   \n",
       "2 2016-06-07  55269.0  ...            0.001                0.7         rain   \n",
       "3 2018-05-25  59757.0  ...            0.000                0.0          NaN   \n",
       "4 2000-04-21    751.0  ...              NaN                NaN         rain   \n",
       "\n",
       "   pressure                            summary  uv_index  visibility  \\\n",
       "0       NaN                                NaN       NaN         NaN   \n",
       "1       NaN                                NaN       NaN         NaN   \n",
       "2    998.87  Mostly cloudy throughout the day.       6.0        9.70   \n",
       "3   1008.07      Partly cloudy in the morning.      10.0        8.25   \n",
       "4   1011.47       Partly cloudy until evening.       6.0       10.00   \n",
       "\n",
       "   wind_bearing  wind_speed                                      location  \n",
       "0           NaN         NaN                                           NaN  \n",
       "1           NaN         NaN                                           NaN  \n",
       "2         262.0        0.49  POINT(-72.33093000000001 43.415490000000005)  \n",
       "3         193.0        3.33            POINT(-96.34203000000001 42.15685)  \n",
       "4         237.0       11.14           POINT(-101.3166 48.254220000000004)  \n",
       "\n",
       "[5 rows x 29 columns]"
      ]
     },
     "execution_count": 2,
     "metadata": {},
     "output_type": "execute_result"
    }
   ],
   "source": [
    "data_url = 'https://raw.githubusercontent.com/UIUC-iSchool-DataViz/is445_bcubcg_fall2022/main/data/bfro_reports_fall2022.csv'\n",
    "df_bigfoot = pd.read_csv(data_url, parse_dates = [\"date\"])\n",
    "\n",
    "df_bigfoot.head()"
   ]
  },
  {
   "cell_type": "code",
   "execution_count": 3,
   "metadata": {},
   "outputs": [
    {
     "data": {
      "text/plain": [
       "Index(['observed', 'location_details', 'county', 'state', 'season', 'title',\n",
       "       'latitude', 'longitude', 'date', 'number', 'classification', 'geohash',\n",
       "       'temperature_high', 'temperature_mid', 'temperature_low', 'dew_point',\n",
       "       'humidity', 'cloud_cover', 'moon_phase', 'precip_intensity',\n",
       "       'precip_probability', 'precip_type', 'pressure', 'summary', 'uv_index',\n",
       "       'visibility', 'wind_bearing', 'wind_speed', 'location'],\n",
       "      dtype='object')"
      ]
     },
     "execution_count": 3,
     "metadata": {},
     "output_type": "execute_result"
    }
   ],
   "source": [
    "# Column names\n",
    "df_bigfoot.columns"
   ]
  },
  {
   "cell_type": "markdown",
   "metadata": {},
   "source": [
    "- Remove: 'observed', 'location_details', 'title', 'geohash', 'precip_type'(all nan), 'summary', 'location'\n",
    "\n",
    "- Categories: 'county', 'state', 'season', 'classification', 'precip_intensity'\n",
    "- Numerica: 'latitude', 'longitude', 'date', 'number', 'temperature_high', 'temperature_mid', 'temperature_low', 'dew_point', 'humidity', 'cloud_cover', 'moon_phase', 'precip_probability', 'pressure', 'uv_index', 'visibility', 'wind_bearing', 'wind_speed'"
   ]
  },
  {
   "cell_type": "markdown",
   "metadata": {},
   "source": [
    "---\n",
    "## Plot 1\n",
    "  1. Allows the user to change the x and y fields on a scatter plot from the Bigfoot dataset. (Support the selection of at least 1 categorical column and at least 1 numerical column in for each of x and y.)\n",
    "  2. Allows the user to pick their marker type.\n",
    "  3. Variable used to determine the marker colors.\n",
    "\n",
    "- Do you want the user to be able to pick any 2 columns?  Or only certain columns?  Why or why not?\n",
    "  First, we should exclude these columns: 'observed', 'location_details', 'title', 'geohash', 'precip_type'(all nan), 'summary', 'location'. The reason is that these columns are long text which is not meaningful to plot if the values are almost unique for each record. The column 'precip_type' doesn't contain any value.\n",
    "\n",
    "  Secondly, the variable county is removed because there are too many counties in the dataset that we are not able to present them meaningfully in this plot.\n",
    "  \n",
    "  As for x and y fields, both categorical variables and numerical variables are allowed for users to choose. We can expect the user have some knowledge to these variables, and we allow they to select what they would like to investigate without an error in this system. \n",
    "\n",
    "  As for the variable for scaling in colors, it should be numerical variables."
   ]
  },
  {
   "cell_type": "code",
   "execution_count": 4,
   "metadata": {},
   "outputs": [
    {
     "data": {
      "application/vnd.jupyter.widget-view+json": {
       "model_id": "2323eaec6fb24994bad646e12b5911c9",
       "version_major": 2,
       "version_minor": 0
      },
      "text/plain": [
       "interactive(children=(Dropdown(description='x', index=5, options=('state', 'season', 'classification', 'precip…"
      ]
     },
     "metadata": {},
     "output_type": "display_data"
    }
   ],
   "source": [
    "\n",
    "cat_col = ['state', 'season', 'classification', 'precip_intensity']\n",
    "num_col = ['latitude', 'longitude', 'date', 'number', 'temperature_high', 'temperature_mid', \n",
    "            'temperature_low', 'dew_point', 'humidity', 'cloud_cover', 'moon_phase', \n",
    "            'precip_probability', 'pressure', 'uv_index', 'visibility', 'wind_bearing', 'wind_speed']\n",
    "marker_option = ['.', ',', 'o', 'v', '^', '<', '>', '1', '2', '3', '4', '8', 's', 'p', '*']\n",
    "\n",
    "@ipywidgets.interact(x=list(cat_col+num_col), y=list(cat_col+num_col), scale_with=list(num_col), marker=marker_option, cmap=plt.colormaps())\n",
    "def plot_1(x='longitude', y='latitude', scale_with='pressure', marker='.', cmap='rainbow'):\n",
    "    fig, ax = plt.subplots(figsize=(18, 10))\n",
    "    plt.scatter(x = df_bigfoot[x], y = df_bigfoot[y], c=df_bigfoot[scale_with], marker=marker, cmap=cmap)\n",
    "    plt.xlabel(x.capitalize())\n",
    "    plt.ylabel(y.capitalize())\n",
    "    plt.xticks(rotation=90)\n",
    "    plt.colorbar()\n",
    "    plt.title(f\"Scatter Plot between {x.capitalize()} and {y.capitalize()}\")\n",
    "    plt.show()"
   ]
  },
  {
   "cell_type": "markdown",
   "metadata": {},
   "source": [
    "### Summary\n",
    "By this interactive plot constructed by matplot and ipywidgets, we can choose the x and y variables to display on a scatter plot. Also, the user can change the marker options, and the marker for displaying will go into the selected option. Finally, the user can choose a variable to scale, allowing the plot to show the different scales of the records in colors. The categorical variables are removed for color scaling because the scaling should be continuous, and they will cause an error."
   ]
  },
  {
   "cell_type": "markdown",
   "metadata": {},
   "source": [
    "----\n",
    "## Plot 2. Displays binned, aggregate values of a column\n",
    "1. The field to \"bin\".\n",
    "2. For numerical variables: The number of bins."
   ]
  },
  {
   "cell_type": "code",
   "execution_count": 5,
   "metadata": {},
   "outputs": [
    {
     "data": {
      "application/vnd.jupyter.widget-view+json": {
       "model_id": "96efad1016744e8d9329678990c0ba3b",
       "version_major": 2,
       "version_minor": 0
      },
      "text/plain": [
       "interactive(children=(Dropdown(description='x', options=('state', 'season', 'classification', 'precip_intensit…"
      ]
     },
     "metadata": {},
     "output_type": "display_data"
    }
   ],
   "source": [
    "@ipywidgets.interact(x=list(cat_col+num_col), bin=(1,500))\n",
    "def plot_2(x='state', bin=20):\n",
    "    fig, ax = plt.subplots(figsize=(18, 10))\n",
    "    if x in num_col:\n",
    "        hist = df_bigfoot[x].hist(bins=bin)\n",
    "    else:\n",
    "        cat_cnt = df_bigfoot.groupby(x)[x].count()\n",
    "        plt.bar(cat_cnt.index, height=cat_cnt.values)\n",
    "    plt.xlabel(x)\n",
    "    plt.ylabel('frequency')\n",
    "    plt.xticks(rotation=90)\n",
    "    plt.show()"
   ]
  },
  {
   "cell_type": "markdown",
   "metadata": {},
   "source": [
    "### Summary\n",
    "\n",
    "The system allows the user to pick any variable, whether categorical or numeric. The system will decide which method to use by the variable type. If the selected variable is numeric, the system will use the hist() method to plot the histogram for the distribution. Users can adjust the bin to select the number of bins in the plot. The bins' options are limited to 1 to 500.\n",
    "\n",
    "If the selected variable is categorical, then it will plot the frequency for each category by the bar chart. The system isn't perfect because the bin cannot be removed though it is useless for categorical variables."
   ]
  },
  {
   "cell_type": "markdown",
   "metadata": {},
   "source": [
    "----\n",
    "## Reference\n",
    "- Naiman, J. (n.d.). IS445: In Class Notebook, Week 03. UIUC. Retrieved September 23, 2022, from https://uiuc-ischool-dataviz.github.io/is445_oauoag_fall2022/nbv.html?notebook_name=%2Fis445_oauoag_fall2022%2Fweek04%2FinClass_week04.ipynb \n",
    "- Naiman, J. (n.d.). IS445: Extra Notebook, Week 04. UIUC. Retrieved September 23, 2022, from https://uiuc-ischool-dataviz.github.io/is445_oauoag_fall2022/nbv.html?notebook_name=%2Fis445_oauoag_fall2022%2Fweek04%2Fprep_notebook_week04_extras.ipynb \n",
    "- Matplotlib.pyplot.bar. matplotlib.pyplot.bar - Matplotlib 3.1.2 documentation. (n.d.). Retrieved September 23, 2022, from https://matplotlib.org/3.1.1/api/_as_gen/matplotlib.pyplot.bar.html "
   ]
  }
 ],
 "metadata": {
  "kernelspec": {
   "display_name": "Python 3.7.12 ('python_data_visualization')",
   "language": "python",
   "name": "python3"
  },
  "language_info": {
   "codemirror_mode": {
    "name": "ipython",
    "version": 3
   },
   "file_extension": ".py",
   "mimetype": "text/x-python",
   "name": "python",
   "nbconvert_exporter": "python",
   "pygments_lexer": "ipython3",
   "version": "3.7.12"
  },
  "vscode": {
   "interpreter": {
    "hash": "bb926063a76f84ea084b8b3283170ec9eae9fe229853227b088c4916835fc035"
   }
  }
 },
 "nbformat": 4,
 "nbformat_minor": 2
}
