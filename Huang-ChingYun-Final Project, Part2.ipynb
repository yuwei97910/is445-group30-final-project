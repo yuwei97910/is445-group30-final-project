{
 "cells": [
  {
   "cell_type": "code",
   "execution_count": null,
   "id": "d4a58ea4",
   "metadata": {},
   "outputs": [],
   "source": [
    "# pip install altair"
   ]
  },
  {
   "cell_type": "code",
   "execution_count": null,
   "id": "3e5b69fe",
   "metadata": {},
   "outputs": [],
   "source": [
    "import pandas as pd\n",
    "import matplotlib.pyplot as plt\n",
    "import numpy as np\n",
    "import json\n",
    "import altair as alt"
   ]
  },
  {
   "cell_type": "code",
   "execution_count": null,
   "id": "cc43da7b",
   "metadata": {},
   "outputs": [],
   "source": [
    "business_df = pd.read_json('yelp_academic_dataset_business.json', lines=True)\n",
    "business_df.head()"
   ]
  },
  {
   "cell_type": "code",
   "execution_count": null,
   "id": "c5a67928",
   "metadata": {},
   "outputs": [],
   "source": [
    "state_select = ['FL','TN','IN','PA']\n",
    "business_df2 = business_df[business_df['state'].isin (state_select)]"
   ]
  },
  {
   "cell_type": "code",
   "execution_count": null,
   "id": "600d8414",
   "metadata": {},
   "outputs": [],
   "source": [
    "alt.data_transformers.disable_max_rows()"
   ]
  },
  {
   "cell_type": "code",
   "execution_count": null,
   "id": "2c0b3a41",
   "metadata": {
    "scrolled": true
   },
   "outputs": [],
   "source": [
    "select_box = alt.binding_select(options=list(business_df2['stars'].unique()))\n",
    "selection = alt.selection_single(name='x_axis', fields=['stars'], bind=select_box)\n",
    "\n",
    "alt.Chart(business_df2).mark_point().encode(\n",
    "    x='longitude:Q',\n",
    "    y='latitude:Q',\n",
    "    color=alt.Color('review_count:Q'),\n",
    "    tooltip='name'\n",
    ").add_selection(\n",
    "    selection\n",
    ").transform_filter(\n",
    "    selection\n",
    ").interactive()"
   ]
  },
  {
   "cell_type": "code",
   "execution_count": null,
   "id": "860e5019",
   "metadata": {},
   "outputs": [],
   "source": []
  }
 ],
 "metadata": {
  "kernelspec": {
   "display_name": "Python 3",
   "language": "python",
   "name": "python3"
  },
  "language_info": {
   "codemirror_mode": {
    "name": "ipython",
    "version": 3
   },
   "file_extension": ".py",
   "mimetype": "text/x-python",
   "name": "python",
   "nbconvert_exporter": "python",
   "pygments_lexer": "ipython3",
   "version": "3.8.8"
  }
 },
 "nbformat": 4,
 "nbformat_minor": 5
}
