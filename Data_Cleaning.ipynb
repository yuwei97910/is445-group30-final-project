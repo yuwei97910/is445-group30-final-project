{
 "cells": [
  {
   "cell_type": "code",
   "execution_count": 1,
   "id": "a7d1520f",
   "metadata": {},
   "outputs": [],
   "source": [
    "import pandas as pd\n",
    "import numpy as np"
   ]
  },
  {
   "cell_type": "code",
   "execution_count": null,
   "id": "2b373bdf",
   "metadata": {},
   "outputs": [],
   "source": [
    "df = pd.read_json('yelp_academic_dataset_business.json',lines=True)"
   ]
  },
  {
   "cell_type": "code",
   "execution_count": null,
   "id": "af6de0e5",
   "metadata": {},
   "outputs": [],
   "source": [
    "df_business = df"
   ]
  },
  {
   "cell_type": "code",
   "execution_count": null,
   "id": "5ddefbbf",
   "metadata": {},
   "outputs": [],
   "source": [
    "df_business['cat_list'] = [x.split(',') if x else [''] for x in df_business['categories']]\n",
    "all_cat = list(df_business['cat_list'])"
   ]
  },
  {
   "cell_type": "code",
   "execution_count": null,
   "id": "8165bff7",
   "metadata": {},
   "outputs": [],
   "source": [
    "unique_cat = set(np.concatenate(all_cat))\n",
    "unique_cat = [x.replace(' ', '') for x in unique_cat] # length = 2455"
   ]
  },
  {
   "cell_type": "code",
   "execution_count": null,
   "id": "bae96b77",
   "metadata": {},
   "outputs": [],
   "source": [
    "def give_unique_cat(cat_list: list):\n",
    "    cat_list = [x.replace(' ', '') for x in cat_list]\n",
    "    unique_category = 'Others'\n",
    "    if 'Restaurants' in cat_list or 'Food' in cat_list or 'Cafeteria' in cat_list: \n",
    "        unique_category = 'Food'\n",
    "    if 'Hotel&Travel' in cat_list or 'Hotels' in cat_list : \n",
    "        unique_category = 'Hotels'\n",
    "    if 'Bars' in cat_list or 'Beer' in cat_list: \n",
    "        unique_category = 'Bars'\n",
    "    # if 'Cafeteria' in cat_list: \n",
    "    #     unique_category = 'Cafeteria'\n",
    "    if 'Pharmacy' in cat_list or 'Doctors' in cat_list or 'Health&Medical' in cat_list: \n",
    "        unique_category = 'Health & Medical'\n",
    "    if 'Shopping' in cat_list: \n",
    "        unique_category = 'Shopping'\n",
    "    if 'Arts&Entertainment' in cat_list: \n",
    "        unique_category = 'Arts & Entertainment'\n",
    "    if 'Financial Services' in cat_list: \n",
    "        unique_category = 'Financial Services'\n",
    "    if 'Automotive' in cat_list: \n",
    "        unique_category = 'Automotive'\n",
    "    if 'ActiveLife' in cat_list: \n",
    "        unique_category = 'Active Life'\n",
    "\n",
    "    return unique_category"
   ]
  },
  {
   "cell_type": "code",
   "execution_count": null,
   "id": "e4b9083f",
   "metadata": {},
   "outputs": [],
   "source": [
    "df_business['unique_category'] = [give_unique_cat(x) for x in df_business['cat_list']]\n",
    "df_business['unique_category'].value_counts().plot(kind='bar')"
   ]
  },
  {
   "cell_type": "code",
   "execution_count": null,
   "id": "8acb2de3",
   "metadata": {},
   "outputs": [],
   "source": [
    "def give_restaurant_type(cat_list: list):\n",
    "    restaurant_type = None\n",
    "    cat_list = [x.replace(' ', '') for x in cat_list]\n",
    "    if not ('Food' in cat_list or 'Restaurants' in cat_list):\n",
    "        return restaurant_type\n",
    "\n",
    "    # print(cat_list)\n",
    "\n",
    "    if 'Korean' in cat_list:\n",
    "        restaurant_type = 'Korean'\n",
    "    elif 'Italian' in cat_list:\n",
    "        restaurant_type = 'Italian'\n",
    "    elif 'Pizza' in cat_list or 'FastFood' in cat_list or 'Burgers' in cat_list:\n",
    "        restaurant_type = 'Fast Food'\n",
    "    elif 'Japanese' in cat_list:\n",
    "        restaurant_type = 'Japanese'\n",
    "    elif 'American(Traditional)' in cat_list or 'American(New)' in cat_list:\n",
    "        restaurant_type = 'American'\n",
    "    elif 'Chinese' in cat_list:\n",
    "        restaurant_type = 'Chinese'\n",
    "    elif 'Mexican' in cat_list:\n",
    "        restaurant_type = 'Mexican'\n",
    "    elif 'Vietnamese' in cat_list:\n",
    "        restaurant_type = 'Vietnamese'\n",
    "    else:\n",
    "        restaurant_type = 'Others'\n",
    "\n",
    "    return restaurant_type"
   ]
  },
  {
   "cell_type": "code",
   "execution_count": null,
   "id": "e648e0f4",
   "metadata": {},
   "outputs": [],
   "source": [
    "df_business['restaurant_type'] = [give_restaurant_type(x) for x in df_business['cat_list']]\n",
    "df_business['restaurant_type'].value_counts().plot(kind='bar')"
   ]
  },
  {
   "cell_type": "code",
   "execution_count": null,
   "id": "41c5b8f8",
   "metadata": {},
   "outputs": [],
   "source": [
    "def check_attribute(attribute: dict, key: str):\n",
    "    if not attribute:\n",
    "        return False\n",
    "\n",
    "    v = attribute.get(key)\n",
    "    if key == 'BusinessParking':\n",
    "        if v:\n",
    "            v = 'True' in v\n",
    "        else:\n",
    "            v = 'False'\n",
    "\n",
    "    if v and v != 'False' and v!= 'None': \n",
    "        return True\n",
    "    else:\n",
    "        return False\n",
    "\n",
    "df_business['has_wifi'] = [check_attribute(x, 'WiFi') for x in df_business['attributes']]\n",
    "df_business['has_parking'] = [check_attribute(x, 'BusinessParking') for x in df_business['attributes']]\n",
    "df_business['animal_friendly'] = [check_attribute(x, 'DogsAllowed') for x in df_business['attributes']]"
   ]
  },
  {
   "cell_type": "code",
   "execution_count": null,
   "id": "77d1718b",
   "metadata": {},
   "outputs": [],
   "source": [
    "df_business"
   ]
  },
  {
   "cell_type": "code",
   "execution_count": null,
   "id": "dc1a8f4f",
   "metadata": {},
   "outputs": [],
   "source": [
    "def calTime(hours, day):\n",
    "    if hours:\n",
    "        if day in hours:\n",
    "            time = hours[day]\n",
    "            times = time.split('-')\n",
    "            times1 = times[0].split(':')\n",
    "            times2 = times[1].split(':')\n",
    "            if int(times1[0]) == int(times2[0]):\n",
    "                hour = 24\n",
    "            else:\n",
    "                hour = int(times2[0]) - int(times1[0])\n",
    "            min = int(times2[1]) - int(times1[1])\n",
    "            min /= 60\n",
    "            return int(hour - min)"
   ]
  },
  {
   "cell_type": "code",
   "execution_count": null,
   "id": "d208325b",
   "metadata": {},
   "outputs": [],
   "source": [
    "df_business['Monday'] = df_business.apply(lambda x : calTime(x['hours'],'Monday'),axis = 1)\n",
    "df_business['Tuesday'] = df_business.apply(lambda x : calTime(x['hours'],'Tuesday'),axis = 1)\n",
    "df_business['Wednesday'] = df_business.apply(lambda x : calTime(x['hours'],'Wednesday'),axis = 1)\n",
    "df_business['Thursday'] = df_business.apply(lambda x : calTime(x['hours'],'Thursday'),axis = 1)\n",
    "df_business['Friday'] = df_business.apply(lambda x : calTime(x['hours'],'Friday'),axis = 1)\n",
    "df_business['Saturday'] = df_business.apply(lambda x : calTime(x['hours'],'Saturday'),axis = 1)\n",
    "df_business['Sunday'] = df_business.apply(lambda x : calTime(x['hours'],'Sunday'),axis = 1)"
   ]
  },
  {
   "cell_type": "code",
   "execution_count": null,
   "id": "76038258",
   "metadata": {},
   "outputs": [],
   "source": [
    "df_IL = df_business[df_business['state'] == 'IL'].reset_index(drop=True)\n",
    "df_IL.to_json('yelp_academic_dataset_business_IL.json')"
   ]
  },
  {
   "cell_type": "code",
   "execution_count": null,
   "id": "7bcc6d55",
   "metadata": {},
   "outputs": [],
   "source": [
    "pd.read_json('yelp_academic_dataset_business_IL.json')"
   ]
  },
  {
   "cell_type": "code",
   "execution_count": null,
   "id": "6487e1b8",
   "metadata": {},
   "outputs": [],
   "source": [
    "df_FL = df_business[df_business['state'] == 'FL'].reset_index(drop=True)\n",
    "df_FL.to_json('yelp_academic_dataset_business_FL.json')"
   ]
  },
  {
   "cell_type": "code",
   "execution_count": null,
   "id": "71daebbc",
   "metadata": {},
   "outputs": [],
   "source": [
    "pd.read_json('yelp_academic_dataset_business_FL.json')"
   ]
  },
  {
   "cell_type": "code",
   "execution_count": null,
   "id": "5075e4f9",
   "metadata": {},
   "outputs": [],
   "source": [
    "df_IN = df_business[df_business['state'] == 'IN'].reset_index(drop=True)\n",
    "df_IN.to_json('yelp_academic_dataset_business_IN.json')"
   ]
  },
  {
   "cell_type": "code",
   "execution_count": null,
   "id": "f28afa8d",
   "metadata": {},
   "outputs": [],
   "source": [
    "pd.read_json('yelp_academic_dataset_business_IN.json')"
   ]
  },
  {
   "cell_type": "code",
   "execution_count": null,
   "id": "6c3759e0",
   "metadata": {},
   "outputs": [],
   "source": [
    "df_PA = df_business[df_business['state'] == 'PA'].reset_index(drop=True)\n",
    "df_PA.to_json('yelp_academic_dataset_business_PA.json')"
   ]
  },
  {
   "cell_type": "code",
   "execution_count": null,
   "id": "1254ff1e",
   "metadata": {},
   "outputs": [],
   "source": [
    "pd.read_json('yelp_academic_dataset_business_PA.json')"
   ]
  },
  {
   "cell_type": "code",
   "execution_count": null,
   "id": "5de0f21e",
   "metadata": {},
   "outputs": [],
   "source": []
  }
 ],
 "metadata": {
  "kernelspec": {
   "display_name": "Python 3 (ipykernel)",
   "language": "python",
   "name": "python3"
  },
  "language_info": {
   "codemirror_mode": {
    "name": "ipython",
    "version": 3
   },
   "file_extension": ".py",
   "mimetype": "text/x-python",
   "name": "python",
   "nbconvert_exporter": "python",
   "pygments_lexer": "ipython3",
   "version": "3.7.12"
  }
 },
 "nbformat": 4,
 "nbformat_minor": 5
}
